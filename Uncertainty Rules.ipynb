{
 "cells": [
  {
   "cell_type": "code",
   "execution_count": 3,
   "id": "6f48f37b",
   "metadata": {},
   "outputs": [
    {
     "name": "stdout",
     "output_type": "stream",
     "text": [
      "dtotal = 1.3\n",
      "errdtotal = 0.0007071067811865475\n"
     ]
    }
   ],
   "source": [
    "import numpy as np\n",
    "\n",
    "def rule3 (da, db):\n",
    "    dQ = np.sqrt(da**2+db**2)\n",
    "    return dQ\n",
    "\n",
    "d1 = 1.0\n",
    "d2 = 0.3\n",
    "errd1 = 0.0005\n",
    "errd2 = 0.0005\n",
    "dtotal = d1 + d2\n",
    "errdtotal = rule3(errd1, errd2)\n",
    "print(\"dtotal =\", dtotal)\n",
    "print(\"errdtotal =\", errdtotal)\n"
   ]
  },
  {
   "cell_type": "code",
   "execution_count": 4,
   "id": "0e2bd026",
   "metadata": {},
   "outputs": [
    {
     "name": "stdout",
     "output_type": "stream",
     "text": [
      "6\n"
     ]
    }
   ],
   "source": [
    "def rule1 (c,da):\n",
    "    dQ=(c*da)\n",
    "    return dQ\n",
    "\n",
    "c = 2\n",
    "da = 3\n",
    "dQ = rule1(c,da)\n",
    "print (dQ)"
   ]
  },
  {
   "cell_type": "code",
   "execution_count": 6,
   "id": "df9d9df5",
   "metadata": {},
   "outputs": [
    {
     "name": "stdout",
     "output_type": "stream",
     "text": [
      "36\n"
     ]
    }
   ],
   "source": [
    "def rule2 (c,A,m,da):\n",
    "    dQ=(c*m*A**(m-1)*da)\n",
    "    return dQ\n",
    "\n",
    "c = 2\n",
    "A = 3\n",
    "m = 2\n",
    "da = 3\n",
    "dQ = rule2 (c,A,m,da)\n",
    "print (dQ)"
   ]
  },
  {
   "cell_type": "code",
   "execution_count": 3,
   "id": "b49e0c0c",
   "metadata": {},
   "outputs": [
    {
     "name": "stdout",
     "output_type": "stream",
     "text": [
      "3.028571428571429\n"
     ]
    }
   ],
   "source": [
    "def rule4 (Q,m,n,da,a,db,b):\n",
    "    dQ= Q*np.sqrt(((m*da)/a)**2 + ((n*db)/b)**2)\n",
    "    return dQ\n",
    "\n",
    "Q = 1\n",
    "m = 2\n",
    "n = 3\n",
    "da = 4\n",
    "a = 5\n",
    "db = 6\n",
    "b = 7\n",
    "dQ = rule4 (Q,m,n,da,a,db,b)\n",
    "print (dQ)   "
   ]
  },
  {
   "cell_type": "code",
   "execution_count": 4,
   "id": "711c17df",
   "metadata": {},
   "outputs": [
    {
     "name": "stdout",
     "output_type": "stream",
     "text": [
      "0.023443859565717474\n"
     ]
    }
   ],
   "source": [
    "def rule4 (v,a,dM,M,b,dm,m,c,dR,R,d,dh,h):\n",
    "    dv= v*np.sqrt(((a*dM)/M)**2 + ((b*dm)/m)**2 + ((c*dR)/R)**2 + ((d*dh)/h)**2)\n",
    "    return dv\n",
    "\n",
    "v = 2.384\n",
    "a = 1\n",
    "dM = .0001\n",
    "M = .2578\n",
    "b = -1\n",
    "dm = .0001\n",
    "m = .0659\n",
    "c = .5\n",
    "dR = .005\n",
    "R = .28\n",
    "d = .5\n",
    "dh = .000516\n",
    "h = .06768\n",
    "dv = rule4 (v,a,dM,M,b,dm,m,c,dR,R,d,dh,h)\n",
    "print (dv)"
   ]
  },
  {
   "cell_type": "code",
   "execution_count": 2,
   "id": "6fcb8f7c",
   "metadata": {},
   "outputs": [
    {
     "name": "stdout",
     "output_type": "stream",
     "text": [
      "1.1166666666666667\n",
      "0.17950549357115014\n"
     ]
    }
   ],
   "source": [
    "x = np.array ([1.1,1.3,1.4,0.9,0.95,1.05])\n",
    "xmean = np.average(x)\n",
    "xstdev = np.std(x)\n",
    "print (xmean)\n",
    "print (xstdev)"
   ]
  },
  {
   "cell_type": "markdown",
   "id": "0f91ef88",
   "metadata": {},
   "source": [
    "The average is 1.12 and the standard deviation is .18"
   ]
  },
  {
   "cell_type": "markdown",
   "id": "74b039b5",
   "metadata": {},
   "source": [
    "$\\delta Q = \\sqrt{\\delta A^2 + \\delta B^2} $"
   ]
  },
  {
   "cell_type": "markdown",
   "id": "664d27ea",
   "metadata": {},
   "source": [
    "$\\delta v = v \\sqrt{(\\frac{1\\delta x}{x})^2 + (\\frac{-.5\\delta y}{y})^2}$"
   ]
  }
 ],
 "metadata": {
  "kernelspec": {
   "display_name": "Python 3",
   "language": "python",
   "name": "python3"
  },
  "language_info": {
   "codemirror_mode": {
    "name": "ipython",
    "version": 3
   },
   "file_extension": ".py",
   "mimetype": "text/x-python",
   "name": "python",
   "nbconvert_exporter": "python",
   "pygments_lexer": "ipython3",
   "version": "3.8.8"
  }
 },
 "nbformat": 4,
 "nbformat_minor": 5
}
